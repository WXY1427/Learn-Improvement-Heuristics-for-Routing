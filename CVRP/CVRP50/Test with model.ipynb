{
 "cells": [
  {
   "cell_type": "code",
   "execution_count": null,
   "metadata": {},
   "outputs": [],
   "source": [
    "import os\n",
    "os.environ[\"CUDA_VISIBLE_DEVICES\"] = \"2\"\n",
    "import json\n",
    "import pprint as pp\n",
    "\n",
    "import torch\n",
    "import torch.optim as optim\n",
    "from tensorboard_logger import Logger as TbLogger\n",
    "\n",
    "from critic_network import CriticNetwork\n",
    "from options import get_options\n",
    "from test_function import get_inner_model, validate\n",
    "from baselines import NoBaseline, ExponentialBaseline, CriticBaseline, RolloutBaseline, WarmupBaseline\n",
    "from attention_model import AttentionModel\n",
    "from utils import torch_load_cpu, load_model, maybe_cuda_model, load_problem\n",
    "import math"
   ]
  },
  {
   "cell_type": "markdown",
   "metadata": {},
   "source": [
    "## Test instance with changed graph size, seed, steps"
   ]
  },
  {
   "cell_type": "code",
   "execution_count": null,
   "metadata": {},
   "outputs": [],
   "source": [
    "%run options --graph_size 50 --eval_only --seed 1234 --steps 200 --load_path outputs/cvrp_50/run/epoch-199.pt"
   ]
  },
  {
   "cell_type": "code",
   "execution_count": null,
   "metadata": {},
   "outputs": [],
   "source": [
    "torch.manual_seed(opts.seed)\n",
    "problem = load_problem(opts.problem)\n",
    "val_dataset = problem.make_dataset(size=opts.graph_size, num_samples=opts.val_size, filename=opts.val_dataset)"
   ]
  },
  {
   "cell_type": "code",
   "execution_count": null,
   "metadata": {
    "scrolled": false
   },
   "outputs": [],
   "source": [
    "# Load data from load_path\n",
    "load_data = {}\n",
    "assert opts.load_path is None or opts.resume is None, \"Only one of load path and resume can be given\"\n",
    "load_path = opts.load_path if opts.load_path is not None else opts.resume\n",
    "if load_path is not None:\n",
    "    print('  [*] Loading data from {}'.format(load_path))\n",
    "    load_data = load_data = torch_load_cpu(load_path)\n",
    "\n",
    "# Initialize model\n",
    "model_class = AttentionModel\n",
    "model = maybe_cuda_model(\n",
    "    model_class(\n",
    "        opts.embedding_dim,\n",
    "        opts.hidden_dim,\n",
    "        problem,\n",
    "        n_encode_layers=opts.n_encode_layers,\n",
    "        mask_inner=True,\n",
    "        mask_logits=True,\n",
    "        normalization=opts.normalization,\n",
    "        tanh_clipping=opts.tanh_clipping\n",
    "    ),\n",
    "    opts.use_cuda\n",
    ")\n",
    "\n",
    "# Overwrite model parameters by parameters to load\n",
    "model_ = get_inner_model(model)\n",
    "model_.load_state_dict({**model_.state_dict(), **load_data.get('model', {})})\n",
    "\n",
    "if opts.eval_only:\n",
    "    total_cost, return_return, best = validate(model, val_dataset, opts)\n",
    "\n",
    "    print('Improving: {} +- {}'.format(\n",
    "    total_cost.mean().item(), torch.std(total_cost) / math.sqrt(len(total_cost))))    \n",
    "\n",
    "    print('Best Improving: {} +- {}'.format(\n",
    "    return_return.mean().item(), torch.std(return_return) / math.sqrt(len(return_return))))\n",
    "\n",
    "    print('Best solutions: {} +- {}'.format(\n",
    "    best.mean().item(), torch.std(best) / math.sqrt(len(best))))"
   ]
  },
  {
   "cell_type": "code",
   "execution_count": null,
   "metadata": {},
   "outputs": [],
   "source": []
  }
 ],
 "metadata": {
  "kernelspec": {
   "display_name": "Python 3",
   "language": "python",
   "name": "python3"
  },
  "language_info": {
   "codemirror_mode": {
    "name": "ipython",
    "version": 3
   },
   "file_extension": ".py",
   "mimetype": "text/x-python",
   "name": "python",
   "nbconvert_exporter": "python",
   "pygments_lexer": "ipython3",
   "version": "3.6.6"
  }
 },
 "nbformat": 4,
 "nbformat_minor": 2
}
